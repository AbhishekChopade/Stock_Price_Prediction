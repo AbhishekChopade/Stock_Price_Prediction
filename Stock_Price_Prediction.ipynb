{
 "cells": [
  {
   "cell_type": "code",
   "execution_count": 1,
   "id": "f6129ce3",
   "metadata": {},
   "outputs": [],
   "source": [
    "import pandas as pd\n",
    "import matplotlib.pyplot as plt\n",
    "import numpy as np"
   ]
  },
  {
   "cell_type": "code",
   "execution_count": 2,
   "id": "62ee6521",
   "metadata": {},
   "outputs": [],
   "source": [
    "df_train = pd.read_csv('../../Datasets/Google_Stock/Google_Stock_Price_Train.csv')\n",
    "df_test = pd.read_csv('../../Datasets/Google_Stock/Google_Stock_Price_Test.csv')"
   ]
  },
  {
   "cell_type": "code",
   "execution_count": 3,
   "id": "4b37753e",
   "metadata": {
    "scrolled": true
   },
   "outputs": [
    {
     "data": {
      "text/html": [
       "<div>\n",
       "<style scoped>\n",
       "    .dataframe tbody tr th:only-of-type {\n",
       "        vertical-align: middle;\n",
       "    }\n",
       "\n",
       "    .dataframe tbody tr th {\n",
       "        vertical-align: top;\n",
       "    }\n",
       "\n",
       "    .dataframe thead th {\n",
       "        text-align: right;\n",
       "    }\n",
       "</style>\n",
       "<table border=\"1\" class=\"dataframe\">\n",
       "  <thead>\n",
       "    <tr style=\"text-align: right;\">\n",
       "      <th></th>\n",
       "      <th>Date</th>\n",
       "      <th>Open</th>\n",
       "      <th>High</th>\n",
       "      <th>Low</th>\n",
       "      <th>Close</th>\n",
       "      <th>Volume</th>\n",
       "    </tr>\n",
       "  </thead>\n",
       "  <tbody>\n",
       "    <tr>\n",
       "      <th>0</th>\n",
       "      <td>1/3/2012</td>\n",
       "      <td>325.25</td>\n",
       "      <td>332.83</td>\n",
       "      <td>324.97</td>\n",
       "      <td>663.59</td>\n",
       "      <td>7,380,500</td>\n",
       "    </tr>\n",
       "    <tr>\n",
       "      <th>1</th>\n",
       "      <td>1/4/2012</td>\n",
       "      <td>331.27</td>\n",
       "      <td>333.87</td>\n",
       "      <td>329.08</td>\n",
       "      <td>666.45</td>\n",
       "      <td>5,749,400</td>\n",
       "    </tr>\n",
       "    <tr>\n",
       "      <th>2</th>\n",
       "      <td>1/5/2012</td>\n",
       "      <td>329.83</td>\n",
       "      <td>330.75</td>\n",
       "      <td>326.89</td>\n",
       "      <td>657.21</td>\n",
       "      <td>6,590,300</td>\n",
       "    </tr>\n",
       "    <tr>\n",
       "      <th>3</th>\n",
       "      <td>1/6/2012</td>\n",
       "      <td>328.34</td>\n",
       "      <td>328.77</td>\n",
       "      <td>323.68</td>\n",
       "      <td>648.24</td>\n",
       "      <td>5,405,900</td>\n",
       "    </tr>\n",
       "    <tr>\n",
       "      <th>4</th>\n",
       "      <td>1/9/2012</td>\n",
       "      <td>322.04</td>\n",
       "      <td>322.29</td>\n",
       "      <td>309.46</td>\n",
       "      <td>620.76</td>\n",
       "      <td>11,688,800</td>\n",
       "    </tr>\n",
       "  </tbody>\n",
       "</table>\n",
       "</div>"
      ],
      "text/plain": [
       "       Date    Open    High     Low   Close      Volume\n",
       "0  1/3/2012  325.25  332.83  324.97  663.59   7,380,500\n",
       "1  1/4/2012  331.27  333.87  329.08  666.45   5,749,400\n",
       "2  1/5/2012  329.83  330.75  326.89  657.21   6,590,300\n",
       "3  1/6/2012  328.34  328.77  323.68  648.24   5,405,900\n",
       "4  1/9/2012  322.04  322.29  309.46  620.76  11,688,800"
      ]
     },
     "execution_count": 3,
     "metadata": {},
     "output_type": "execute_result"
    }
   ],
   "source": [
    "df_train.head()"
   ]
  },
  {
   "cell_type": "code",
   "execution_count": 4,
   "id": "a686f34f",
   "metadata": {
    "scrolled": true
   },
   "outputs": [
    {
     "data": {
      "text/html": [
       "<div>\n",
       "<style scoped>\n",
       "    .dataframe tbody tr th:only-of-type {\n",
       "        vertical-align: middle;\n",
       "    }\n",
       "\n",
       "    .dataframe tbody tr th {\n",
       "        vertical-align: top;\n",
       "    }\n",
       "\n",
       "    .dataframe thead th {\n",
       "        text-align: right;\n",
       "    }\n",
       "</style>\n",
       "<table border=\"1\" class=\"dataframe\">\n",
       "  <thead>\n",
       "    <tr style=\"text-align: right;\">\n",
       "      <th></th>\n",
       "      <th>Date</th>\n",
       "      <th>Open</th>\n",
       "      <th>High</th>\n",
       "      <th>Low</th>\n",
       "      <th>Close</th>\n",
       "      <th>Volume</th>\n",
       "    </tr>\n",
       "  </thead>\n",
       "  <tbody>\n",
       "    <tr>\n",
       "      <th>1253</th>\n",
       "      <td>12/23/2016</td>\n",
       "      <td>790.90</td>\n",
       "      <td>792.74</td>\n",
       "      <td>787.28</td>\n",
       "      <td>789.91</td>\n",
       "      <td>623,400</td>\n",
       "    </tr>\n",
       "    <tr>\n",
       "      <th>1254</th>\n",
       "      <td>12/27/2016</td>\n",
       "      <td>790.68</td>\n",
       "      <td>797.86</td>\n",
       "      <td>787.66</td>\n",
       "      <td>791.55</td>\n",
       "      <td>789,100</td>\n",
       "    </tr>\n",
       "    <tr>\n",
       "      <th>1255</th>\n",
       "      <td>12/28/2016</td>\n",
       "      <td>793.70</td>\n",
       "      <td>794.23</td>\n",
       "      <td>783.20</td>\n",
       "      <td>785.05</td>\n",
       "      <td>1,153,800</td>\n",
       "    </tr>\n",
       "    <tr>\n",
       "      <th>1256</th>\n",
       "      <td>12/29/2016</td>\n",
       "      <td>783.33</td>\n",
       "      <td>785.93</td>\n",
       "      <td>778.92</td>\n",
       "      <td>782.79</td>\n",
       "      <td>744,300</td>\n",
       "    </tr>\n",
       "    <tr>\n",
       "      <th>1257</th>\n",
       "      <td>12/30/2016</td>\n",
       "      <td>782.75</td>\n",
       "      <td>782.78</td>\n",
       "      <td>770.41</td>\n",
       "      <td>771.82</td>\n",
       "      <td>1,770,000</td>\n",
       "    </tr>\n",
       "  </tbody>\n",
       "</table>\n",
       "</div>"
      ],
      "text/plain": [
       "            Date    Open    High     Low   Close     Volume\n",
       "1253  12/23/2016  790.90  792.74  787.28  789.91    623,400\n",
       "1254  12/27/2016  790.68  797.86  787.66  791.55    789,100\n",
       "1255  12/28/2016  793.70  794.23  783.20  785.05  1,153,800\n",
       "1256  12/29/2016  783.33  785.93  778.92  782.79    744,300\n",
       "1257  12/30/2016  782.75  782.78  770.41  771.82  1,770,000"
      ]
     },
     "execution_count": 4,
     "metadata": {},
     "output_type": "execute_result"
    }
   ],
   "source": [
    "df_train.tail()"
   ]
  },
  {
   "cell_type": "code",
   "execution_count": 5,
   "id": "c6bc510e",
   "metadata": {},
   "outputs": [
    {
     "data": {
      "text/html": [
       "<div>\n",
       "<style scoped>\n",
       "    .dataframe tbody tr th:only-of-type {\n",
       "        vertical-align: middle;\n",
       "    }\n",
       "\n",
       "    .dataframe tbody tr th {\n",
       "        vertical-align: top;\n",
       "    }\n",
       "\n",
       "    .dataframe thead th {\n",
       "        text-align: right;\n",
       "    }\n",
       "</style>\n",
       "<table border=\"1\" class=\"dataframe\">\n",
       "  <thead>\n",
       "    <tr style=\"text-align: right;\">\n",
       "      <th></th>\n",
       "      <th>Date</th>\n",
       "      <th>Open</th>\n",
       "      <th>High</th>\n",
       "      <th>Low</th>\n",
       "      <th>Close</th>\n",
       "      <th>Volume</th>\n",
       "    </tr>\n",
       "  </thead>\n",
       "  <tbody>\n",
       "    <tr>\n",
       "      <th>0</th>\n",
       "      <td>1/3/2017</td>\n",
       "      <td>778.81</td>\n",
       "      <td>789.63</td>\n",
       "      <td>775.80</td>\n",
       "      <td>786.14</td>\n",
       "      <td>1,657,300</td>\n",
       "    </tr>\n",
       "    <tr>\n",
       "      <th>1</th>\n",
       "      <td>1/4/2017</td>\n",
       "      <td>788.36</td>\n",
       "      <td>791.34</td>\n",
       "      <td>783.16</td>\n",
       "      <td>786.90</td>\n",
       "      <td>1,073,000</td>\n",
       "    </tr>\n",
       "    <tr>\n",
       "      <th>2</th>\n",
       "      <td>1/5/2017</td>\n",
       "      <td>786.08</td>\n",
       "      <td>794.48</td>\n",
       "      <td>785.02</td>\n",
       "      <td>794.02</td>\n",
       "      <td>1,335,200</td>\n",
       "    </tr>\n",
       "    <tr>\n",
       "      <th>3</th>\n",
       "      <td>1/6/2017</td>\n",
       "      <td>795.26</td>\n",
       "      <td>807.90</td>\n",
       "      <td>792.20</td>\n",
       "      <td>806.15</td>\n",
       "      <td>1,640,200</td>\n",
       "    </tr>\n",
       "    <tr>\n",
       "      <th>4</th>\n",
       "      <td>1/9/2017</td>\n",
       "      <td>806.40</td>\n",
       "      <td>809.97</td>\n",
       "      <td>802.83</td>\n",
       "      <td>806.65</td>\n",
       "      <td>1,272,400</td>\n",
       "    </tr>\n",
       "  </tbody>\n",
       "</table>\n",
       "</div>"
      ],
      "text/plain": [
       "       Date    Open    High     Low   Close     Volume\n",
       "0  1/3/2017  778.81  789.63  775.80  786.14  1,657,300\n",
       "1  1/4/2017  788.36  791.34  783.16  786.90  1,073,000\n",
       "2  1/5/2017  786.08  794.48  785.02  794.02  1,335,200\n",
       "3  1/6/2017  795.26  807.90  792.20  806.15  1,640,200\n",
       "4  1/9/2017  806.40  809.97  802.83  806.65  1,272,400"
      ]
     },
     "execution_count": 5,
     "metadata": {},
     "output_type": "execute_result"
    }
   ],
   "source": [
    "df_test.head()"
   ]
  },
  {
   "cell_type": "code",
   "execution_count": 6,
   "id": "6a43d72c",
   "metadata": {},
   "outputs": [
    {
     "data": {
      "text/plain": [
       "Date       object\n",
       "Open      float64\n",
       "High      float64\n",
       "Low       float64\n",
       "Close     float64\n",
       "Volume     object\n",
       "dtype: object"
      ]
     },
     "execution_count": 6,
     "metadata": {},
     "output_type": "execute_result"
    }
   ],
   "source": [
    "df_test.dtypes"
   ]
  },
  {
   "cell_type": "code",
   "execution_count": 7,
   "id": "3b9185a0",
   "metadata": {},
   "outputs": [
    {
     "data": {
      "text/plain": [
       "Date       object\n",
       "Open      float64\n",
       "High      float64\n",
       "Low       float64\n",
       "Close      object\n",
       "Volume     object\n",
       "dtype: object"
      ]
     },
     "execution_count": 7,
     "metadata": {},
     "output_type": "execute_result"
    }
   ],
   "source": [
    "df_train.dtypes"
   ]
  },
  {
   "cell_type": "code",
   "execution_count": 8,
   "id": "e76c629e",
   "metadata": {},
   "outputs": [
    {
     "data": {
      "text/plain": [
       "'7,380,500'"
      ]
     },
     "execution_count": 8,
     "metadata": {},
     "output_type": "execute_result"
    }
   ],
   "source": [
    "df_train['Volume'][0]"
   ]
  },
  {
   "cell_type": "code",
   "execution_count": 9,
   "id": "936c0bab",
   "metadata": {},
   "outputs": [],
   "source": [
    "V = []\n",
    "for i in df_train['Volume']:\n",
    "    c = i.split(',')\n",
    "    x = \"\".join(c)  \n",
    "    V.append(int(x))\n"
   ]
  },
  {
   "cell_type": "code",
   "execution_count": 10,
   "id": "a56b08a1",
   "metadata": {},
   "outputs": [],
   "source": [
    "df_train['Volume'] = V"
   ]
  },
  {
   "cell_type": "code",
   "execution_count": 11,
   "id": "00019cb6",
   "metadata": {},
   "outputs": [
    {
     "data": {
      "text/plain": [
       "Date       object\n",
       "Open      float64\n",
       "High      float64\n",
       "Low       float64\n",
       "Close      object\n",
       "Volume      int64\n",
       "dtype: object"
      ]
     },
     "execution_count": 11,
     "metadata": {},
     "output_type": "execute_result"
    }
   ],
   "source": [
    "df_train.dtypes"
   ]
  },
  {
   "cell_type": "code",
   "execution_count": 12,
   "id": "b1306a8a",
   "metadata": {},
   "outputs": [
    {
     "data": {
      "text/plain": [
       "[<matplotlib.lines.Line2D at 0x26aaafe5e48>]"
      ]
     },
     "execution_count": 12,
     "metadata": {},
     "output_type": "execute_result"
    },
    {
     "data": {
      "image/png": "[encoded data removed]",
      "text/plain": [
       "<Figure size 432x288 with 1 Axes>"
      ]
     },
     "metadata": {
      "needs_background": "light"
     },
     "output_type": "display_data"
    }
   ],
   "source": [
    "plt.plot(pd.to_datetime(df_train['Date']), df_train['Open'])"
   ]
  },
  {
   "cell_type": "code",
   "execution_count": 12,
   "id": "ce5c8c48",
   "metadata": {},
   "outputs": [],
   "source": [
    "from sklearn.preprocessing import MinMaxScaler"
   ]
  },
  {
   "cell_type": "code",
   "execution_count": 13,
   "id": "e0c5f5e4",
   "metadata": {},
   "outputs": [],
   "source": [
    "scaler = MinMaxScaler()\n",
    "X_scaled = scaler.fit_transform(df_train[['Open','High','Low','Volume']])"
   ]
  },
  {
   "cell_type": "code",
   "execution_count": 14,
   "id": "d54dfb25",
   "metadata": {},
   "outputs": [
    {
     "data": {
      "text/plain": [
       "(1258, 4)"
      ]
     },
     "execution_count": 14,
     "metadata": {},
     "output_type": "execute_result"
    }
   ],
   "source": [
    "X_scaled.shape"
   ]
  },
  {
   "cell_type": "code",
   "execution_count": 15,
   "id": "70ec090f",
   "metadata": {},
   "outputs": [
    {
     "data": {
      "text/plain": [
       "array([[0.08581368, 0.09640129, 0.09044931, 0.29525831],\n",
       "       [0.09701243, 0.09834351, 0.09823458, 0.22993592],\n",
       "       [0.09433366, 0.09251685, 0.09408623, 0.26361233],\n",
       "       ...,\n",
       "       [0.95725128, 0.95807422, 0.95844067, 0.04589107],\n",
       "       [0.93796041, 0.94257381, 0.95033338, 0.02949139],\n",
       "       [0.93688146, 0.93669113, 0.93421352, 0.07056868]])"
      ]
     },
     "execution_count": 15,
     "metadata": {},
     "output_type": "execute_result"
    }
   ],
   "source": [
    "X_scaled"
   ]
  },
  {
   "cell_type": "code",
   "execution_count": 16,
   "id": "f5cf52a0",
   "metadata": {},
   "outputs": [
    {
     "data": {
      "text/plain": [
       "array([0.08627874, 0.08564439, 0.08283452, 0.15438526])"
      ]
     },
     "execution_count": 16,
     "metadata": {},
     "output_type": "execute_result"
    }
   ],
   "source": [
    "X_scaled[60,:4]"
   ]
  },
  {
   "cell_type": "code",
   "execution_count": 17,
   "id": "d4ef5ab8",
   "metadata": {},
   "outputs": [],
   "source": [
    "X_train = []\n",
    "y_train = []\n",
    "for i in range(1198):\n",
    "    row = X_scaled[i:i+60,:4]\n",
    "    y = X_scaled[i+60,:4]\n",
    "    X_train.append(row)\n",
    "    y_train.append(y)\n",
    "X_train = np.array(X_train)\n",
    "y_train = np.array(y_train)"
   ]
  },
  {
   "cell_type": "code",
   "execution_count": 18,
   "id": "193e56a2",
   "metadata": {},
   "outputs": [
    {
     "data": {
      "text/plain": [
       "(1198, 60, 4)"
      ]
     },
     "execution_count": 18,
     "metadata": {},
     "output_type": "execute_result"
    }
   ],
   "source": [
    "X_train.shape"
   ]
  },
  {
   "cell_type": "code",
   "execution_count": 19,
   "id": "97196546",
   "metadata": {},
   "outputs": [
    {
     "data": {
      "text/plain": [
       "(1198, 4)"
      ]
     },
     "execution_count": 19,
     "metadata": {},
     "output_type": "execute_result"
    }
   ],
   "source": [
    "y_train.shape"
   ]
  },
  {
   "cell_type": "code",
   "execution_count": 20,
   "id": "e89e0189",
   "metadata": {},
   "outputs": [],
   "source": [
    "X_train = X_train.reshape(1198,60,4)"
   ]
  },
  {
   "cell_type": "code",
   "execution_count": 1,
   "id": "5a2e60f5",
   "metadata": {},
   "outputs": [],
   "source": [
    "# Model Building\n",
    "from tensorflow.keras.layers import Dense, LSTM,\n",
    "from tensorflow.keras.models import Sequential"
   ]
  },
  {
   "cell_type": "code",
   "execution_count": 22,
   "id": "72f21d30",
   "metadata": {},
   "outputs": [],
   "source": [
    "model = Sequential()\n",
    "model.add(LSTM(80, return_sequences = True, input_shape = (60,4)))\n",
    "model.add(LSTM(80, return_sequences = True))\n",
    "model.add(LSTM(80, return_sequences = True))\n",
    "model.add(LSTM(80, return_sequences = False))\n",
    "model.add(Dense(4))\n",
    "\n",
    "model.compile(loss='mean_squared_error')"
   ]
  },
  {
   "cell_type": "code",
   "execution_count": 23,
   "id": "d1eecb84",
   "metadata": {},
   "outputs": [
    {
     "name": "stdout",
     "output_type": "stream",
     "text": [
      "Epoch 1/50\n",
      "38/38 [==============================] - 7s 71ms/step - loss: 0.0342\n",
      "Epoch 2/50\n",
      "38/38 [==============================] - 2s 65ms/step - loss: 0.0129\n",
      "Epoch 3/50\n",
      "38/38 [==============================] - 2s 65ms/step - loss: 0.0090\n",
      "Epoch 4/50\n",
      "38/38 [==============================] - 3s 81ms/step - loss: 0.0082\n",
      "Epoch 5/50\n",
      "38/38 [==============================] - 3s 67ms/step - loss: 0.0062\n",
      "Epoch 6/50\n",
      "38/38 [==============================] - 2s 65ms/step - loss: 0.0058\n",
      "Epoch 7/50\n",
      "38/38 [==============================] - 2s 66ms/step - loss: 0.0062\n",
      "Epoch 8/50\n",
      "38/38 [==============================] - 3s 67ms/step - loss: 0.0051\n",
      "Epoch 9/50\n",
      "38/38 [==============================] - 2s 65ms/step - loss: 0.0046\n",
      "Epoch 10/50\n",
      "38/38 [==============================] - 3s 66ms/step - loss: 0.0046\n",
      "Epoch 11/50\n",
      "38/38 [==============================] - 2s 65ms/step - loss: 0.0041\n",
      "Epoch 12/50\n",
      "38/38 [==============================] - 2s 65ms/step - loss: 0.0037\n",
      "Epoch 13/50\n",
      "38/38 [==============================] - 2s 65ms/step - loss: 0.0041\n",
      "Epoch 14/50\n",
      "38/38 [==============================] - 2s 65ms/step - loss: 0.0038\n",
      "Epoch 15/50\n",
      "38/38 [==============================] - 2s 65ms/step - loss: 0.0034\n",
      "Epoch 16/50\n",
      "38/38 [==============================] - 2s 65ms/step - loss: 0.0033\n",
      "Epoch 17/50\n",
      "38/38 [==============================] - 2s 65ms/step - loss: 0.0032\n",
      "Epoch 18/50\n",
      "38/38 [==============================] - 2s 65ms/step - loss: 0.0030\n",
      "Epoch 19/50\n",
      "38/38 [==============================] - 2s 65ms/step - loss: 0.0031\n",
      "Epoch 20/50\n",
      "38/38 [==============================] - 2s 65ms/step - loss: 0.0028\n",
      "Epoch 21/50\n",
      "38/38 [==============================] - 3s 69ms/step - loss: 0.0028\n",
      "Epoch 22/50\n",
      "38/38 [==============================] - 2s 64ms/step - loss: 0.0027\n",
      "Epoch 23/50\n",
      "38/38 [==============================] - 2s 65ms/step - loss: 0.0025\n",
      "Epoch 24/50\n",
      "38/38 [==============================] - 2s 65ms/step - loss: 0.0026\n",
      "Epoch 25/50\n",
      "38/38 [==============================] - 2s 65ms/step - loss: 0.0025\n",
      "Epoch 26/50\n",
      "38/38 [==============================] - 2s 65ms/step - loss: 0.0024\n",
      "Epoch 27/50\n",
      "38/38 [==============================] - 3s 69ms/step - loss: 0.0024\n",
      "Epoch 28/50\n",
      "38/38 [==============================] - 3s 69ms/step - loss: 0.0023\n",
      "Epoch 29/50\n",
      "38/38 [==============================] - 3s 68ms/step - loss: 0.0022\n",
      "Epoch 30/50\n",
      "38/38 [==============================] - 3s 69ms/step - loss: 0.0024\n",
      "Epoch 31/50\n",
      "38/38 [==============================] - 3s 69ms/step - loss: 0.0020\n",
      "Epoch 32/50\n",
      "38/38 [==============================] - 3s 68ms/step - loss: 0.0023\n",
      "Epoch 33/50\n",
      "38/38 [==============================] - 3s 68ms/step - loss: 0.0023\n",
      "Epoch 34/50\n",
      "38/38 [==============================] - 3s 69ms/step - loss: 0.0019\n",
      "Epoch 35/50\n",
      "38/38 [==============================] - 3s 68ms/step - loss: 0.0021\n",
      "Epoch 36/50\n",
      "38/38 [==============================] - 3s 69ms/step - loss: 0.0019\n",
      "Epoch 37/50\n",
      "38/38 [==============================] - 3s 69ms/step - loss: 0.0020\n",
      "Epoch 38/50\n",
      "38/38 [==============================] - 3s 69ms/step - loss: 0.0019\n",
      "Epoch 39/50\n",
      "38/38 [==============================] - 3s 68ms/step - loss: 0.0018\n",
      "Epoch 40/50\n",
      "38/38 [==============================] - 3s 69ms/step - loss: 0.0019\n",
      "Epoch 41/50\n",
      "38/38 [==============================] - 3s 69ms/step - loss: 0.0017\n",
      "Epoch 42/50\n",
      "38/38 [==============================] - 3s 69ms/step - loss: 0.0017\n",
      "Epoch 43/50\n",
      "38/38 [==============================] - 3s 69ms/step - loss: 0.0018\n",
      "Epoch 44/50\n",
      "38/38 [==============================] - 3s 69ms/step - loss: 0.0017\n",
      "Epoch 45/50\n",
      "38/38 [==============================] - 3s 68ms/step - loss: 0.0016\n",
      "Epoch 46/50\n",
      "38/38 [==============================] - 3s 69ms/step - loss: 0.0015\n",
      "Epoch 47/50\n",
      "38/38 [==============================] - 3s 74ms/step - loss: 0.0016\n",
      "Epoch 48/50\n",
      "38/38 [==============================] - 3s 72ms/step - loss: 0.0015\n",
      "Epoch 49/50\n",
      "38/38 [==============================] - 3s 72ms/step - loss: 0.0015\n",
      "Epoch 50/50\n",
      "38/38 [==============================] - 3s 75ms/step - loss: 0.0014\n"
     ]
    }
   ],
   "source": [
    "hist = model.fit(X_train,y_train,batch_size=32,epochs=50)"
   ]
  },
  {
   "cell_type": "code",
   "execution_count": 24,
   "id": "d7d4c7a3",
   "metadata": {},
   "outputs": [],
   "source": [
    "V2 = []\n",
    "for i in df_test['Volume']:\n",
    "    c = i.split(',')\n",
    "    x = \"\".join(c)  \n",
    "    V2.append(int(x))\n"
   ]
  },
  {
   "cell_type": "code",
   "execution_count": 25,
   "id": "b83ea543",
   "metadata": {},
   "outputs": [],
   "source": [
    "df_test['Volume'] = V2"
   ]
  },
  {
   "cell_type": "code",
   "execution_count": 26,
   "id": "3d9e05c9",
   "metadata": {},
   "outputs": [
    {
     "data": {
      "text/plain": [
       "Date       object\n",
       "Open      float64\n",
       "High      float64\n",
       "Low       float64\n",
       "Close     float64\n",
       "Volume      int64\n",
       "dtype: object"
      ]
     },
     "execution_count": 26,
     "metadata": {},
     "output_type": "execute_result"
    }
   ],
   "source": [
    "df_test.dtypes"
   ]
  },
  {
   "cell_type": "code",
   "execution_count": 27,
   "id": "29dfe582",
   "metadata": {},
   "outputs": [],
   "source": [
    "X_test_scaled = scaler.transform(df_test[['Open','High','Low','Volume']])"
   ]
  },
  {
   "cell_type": "code",
   "execution_count": 28,
   "id": "37746c5c",
   "metadata": {},
   "outputs": [],
   "source": [
    "temp = np.vstack([X_scaled[-60:], X_test_scaled])"
   ]
  },
  {
   "cell_type": "code",
   "execution_count": 29,
   "id": "cefda828",
   "metadata": {},
   "outputs": [
    {
     "data": {
      "text/plain": [
       "(80, 4)"
      ]
     },
     "execution_count": 29,
     "metadata": {},
     "output_type": "execute_result"
    }
   ],
   "source": [
    "temp.shape"
   ]
  },
  {
   "cell_type": "code",
   "execution_count": 30,
   "id": "0fb70bee",
   "metadata": {},
   "outputs": [],
   "source": [
    "X_test = []\n",
    "for i in range(20):\n",
    "    row = temp[i:i+60,:]\n",
    "    X_test.append(row)\n",
    "X_test = np.array(X_test)"
   ]
  },
  {
   "cell_type": "code",
   "execution_count": 31,
   "id": "70e80cf2",
   "metadata": {},
   "outputs": [
    {
     "data": {
      "text/plain": [
       "(20, 60, 4)"
      ]
     },
     "execution_count": 31,
     "metadata": {},
     "output_type": "execute_result"
    }
   ],
   "source": [
    "X_test.shape"
   ]
  },
  {
   "cell_type": "code",
   "execution_count": 32,
   "id": "5488a66e",
   "metadata": {},
   "outputs": [],
   "source": [
    "#X_test = X_test.reshape(20,60,4)"
   ]
  },
  {
   "cell_type": "code",
   "execution_count": 33,
   "id": "5fe52dd5",
   "metadata": {},
   "outputs": [],
   "source": [
    "yp = model.predict(X_test)"
   ]
  },
  {
   "cell_type": "code",
   "execution_count": 34,
   "id": "3f0c1fd7",
   "metadata": {},
   "outputs": [
    {
     "data": {
      "text/plain": [
       "array([[0.96169937, 0.9683095 , 0.98143095, 0.02113745],\n",
       "       [0.9646811 , 0.97242635, 0.9852746 , 0.02191338],\n",
       "       [0.9696284 , 0.9779527 , 0.9920132 , 0.01904427],\n",
       "       [0.96673054, 0.9743998 , 0.98825353, 0.01947688],\n",
       "       [0.9795039 , 0.9873387 , 1.0010875 , 0.02118609],\n",
       "       [0.98534137, 0.9929801 , 1.0084267 , 0.01889351],\n",
       "       [0.9834545 , 0.9903344 , 1.0065653 , 0.0174158 ],\n",
       "       [0.98212177, 0.988723  , 1.0053352 , 0.0162711 ],\n",
       "       [0.9835371 , 0.9899955 , 1.0063086 , 0.01721913],\n",
       "       [0.9905582 , 0.9974023 , 1.0145646 , 0.01588936],\n",
       "       [0.9803216 , 0.98638415, 1.0034021 , 0.01609956],\n",
       "       [0.98322195, 0.98985463, 1.006665  , 0.01597963],\n",
       "       [0.9836388 , 0.99052256, 1.0080754 , 0.0140354 ],\n",
       "       [0.9819538 , 0.988417  , 1.0049126 , 0.01661156],\n",
       "       [0.9870724 , 0.99395907, 1.0099139 , 0.01869426],\n",
       "       [0.9996421 , 1.0072875 , 1.0246055 , 0.01665935],\n",
       "       [1.0037344 , 1.0108211 , 1.0290198 , 0.01562772],\n",
       "       [1.0043335 , 1.0105113 , 1.0269035 , 0.02110666],\n",
       "       [0.9968421 , 1.0032172 , 1.0193801 , 0.02208528],\n",
       "       [0.97078615, 0.9765921 , 0.9911023 , 0.02457216]], dtype=float32)"
      ]
     },
     "execution_count": 34,
     "metadata": {},
     "output_type": "execute_result"
    }
   ],
   "source": [
    "yp"
   ]
  },
  {
   "cell_type": "code",
   "execution_count": 35,
   "id": "0efb73f7",
   "metadata": {},
   "outputs": [],
   "source": [
    "yp = scaler.inverse_transform(yp)"
   ]
  },
  {
   "cell_type": "code",
   "execution_count": 36,
   "id": "b092aa86",
   "metadata": {},
   "outputs": [
    {
     "data": {
      "text/plain": [
       "array([535702.1 , 555077.  , 483435.4 , 494237.78, 536916.6 , 479671.03,\n",
       "       442772.5 , 414189.44, 437861.6 , 404657.34, 409906.03, 406911.44,\n",
       "       358363.84, 422690.78, 474695.56, 423884.03, 398124.06, 534933.2 ,\n",
       "       559369.5 , 621466.8 ], dtype=float32)"
      ]
     },
     "execution_count": 36,
     "metadata": {},
     "output_type": "execute_result"
    }
   ],
   "source": [
    "yp[:,3]"
   ]
  },
  {
   "cell_type": "code",
   "execution_count": 41,
   "id": "b933948f",
   "metadata": {},
   "outputs": [
    {
     "data": {
      "text/plain": [
       "[<matplotlib.lines.Line2D at 0x248e7e5b6a0>]"
      ]
     },
     "execution_count": 41,
     "metadata": {},
     "output_type": "execute_result"
    },
    {
     "data": {
      "image/png": "[encoded data removed]",
      "text/plain": [
       "<Figure size 432x288 with 1 Axes>"
      ]
     },
     "metadata": {
      "needs_background": "light"
     },
     "output_type": "display_data"
    }
   ],
   "source": [
    "plt.plot(df_test['Open'], c='blue')\n",
    "plt.plot(yp[:,0], c='red')"
   ]
  },
  {
   "cell_type": "code",
   "execution_count": 38,
   "id": "335da09f",
   "metadata": {},
   "outputs": [
    {
     "data": {
      "text/plain": [
       "[<matplotlib.lines.Line2D at 0x248e7c7fda0>]"
      ]
     },
     "execution_count": 38,
     "metadata": {},
     "output_type": "execute_result"
    },
    {
     "data": {
      "image/png": "[encoded data removed]",
      "text/plain": [
       "<Figure size 432x288 with 1 Axes>"
      ]
     },
     "metadata": {
      "needs_background": "light"
     },
     "output_type": "display_data"
    }
   ],
   "source": [
    "plt.plot(df_test['High'], c='blue')\n",
    "plt.plot(yp[:,1], c='red')"
   ]
  },
  {
   "cell_type": "code",
   "execution_count": 39,
   "id": "d02c012b",
   "metadata": {},
   "outputs": [
    {
     "data": {
      "text/plain": [
       "[<matplotlib.lines.Line2D at 0x248e7c87b38>]"
      ]
     },
     "execution_count": 39,
     "metadata": {},
     "output_type": "execute_result"
    },
    {
     "data": {
      "image/png": "[encoded data removed]",
      "text/plain": [
       "<Figure size 432x288 with 1 Axes>"
      ]
     },
     "metadata": {
      "needs_background": "light"
     },
     "output_type": "display_data"
    }
   ],
   "source": [
    "plt.plot(df_test['Low'], c='blue')\n",
    "plt.plot(yp[:,2], c='red')"
   ]
  },
  {
   "cell_type": "code",
   "execution_count": 40,
   "id": "70834007",
   "metadata": {},
   "outputs": [
    {
     "data": {
      "text/plain": [
       "[<matplotlib.lines.Line2D at 0x248e7debc18>]"
      ]
     },
     "execution_count": 40,
     "metadata": {},
     "output_type": "execute_result"
    },
    {
     "data": {
      "image/png": "[encoded data removed]",
      "text/plain": [
       "<Figure size 432x288 with 1 Axes>"
      ]
     },
     "metadata": {
      "needs_background": "light"
     },
     "output_type": "display_data"
    }
   ],
   "source": [
    "plt.plot(df_test['Volume'], c='blue')\n",
    "plt.plot(yp[:,3], c='red')"
   ]
  },
  {
   "cell_type": "code",
   "execution_count": null,
   "id": "7b60baf1",
   "metadata": {},
   "outputs": [],
   "source": []
  }
 ],
 "metadata": {
  "kernelspec": {
   "display_name": "Python [conda env:dsml20_env1]",
   "language": "python",
   "name": "conda-env-dsml20_env1-py"
  },
  "language_info": {
   "codemirror_mode": {
    "name": "ipython",
    "version": 3
   },
   "file_extension": ".py",
   "mimetype": "text/x-python",
   "name": "python",
   "nbconvert_exporter": "python",
   "pygments_lexer": "ipython3",
   "version": "3.6.13"
  }
 },
 "nbformat": 4,
 "nbformat_minor": 5
}
